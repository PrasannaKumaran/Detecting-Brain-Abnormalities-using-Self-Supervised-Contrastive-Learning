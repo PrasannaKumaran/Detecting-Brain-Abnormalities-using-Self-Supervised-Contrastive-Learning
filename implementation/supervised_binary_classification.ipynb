{
  "cells": [
    {
      "cell_type": "markdown",
      "metadata": {},
      "source": [
        "##### Import required Libraries"
      ]
    },
    {
      "cell_type": "code",
      "execution_count": null,
      "metadata": {
        "id": "5DgCNM2Vte5p"
      },
      "outputs": [],
      "source": [
        "import os \n",
        "import tensorflow as tf \n",
        "from google.colab import drive\n",
        "import matplotlib.pyplot as plt\n",
        "from tensorflow.keras import layers \n",
        "from tensorflow.keras.applications.resnet50 import ResNet50 \n",
        "from tensorflow.keras.preprocessing.image import ImageDataGenerator \n",
        "drive.mount('/content/gdrive')"
      ]
    },
    {
      "cell_type": "markdown",
      "metadata": {},
      "source": [
        "##### Check if GPU is detected"
      ]
    },
    {
      "cell_type": "code",
      "execution_count": null,
      "metadata": {
        "colab": {
          "base_uri": "https://localhost:8080/"
        },
        "id": "h7mvr8KaO6DO",
        "outputId": "d8774baa-6006-4891-ccb5-674e3f2db066"
      },
      "outputs": [],
      "source": [
        "device_name = tf.test.gpu_device_name()\n",
        "print(device_name)\n",
        "if device_name != '/device:GPU:0':\n",
        "  raise SystemError('GPU device not found')\n",
        "print('Found GPU at: {}'.format(device_name))"
      ]
    },
    {
      "cell_type": "markdown",
      "metadata": {},
      "source": [
        "##### Split the dataset into train and validation"
      ]
    },
    {
      "cell_type": "code",
      "execution_count": null,
      "metadata": {
        "id": "IY4ytkCqL1wB"
      },
      "outputs": [],
      "source": [
        "base_dir = '/content/gdrive/MyDrive/FYP/binary_classification_data/binary_classification_data'\n",
        "train_dir = os.path.join(base_dir, 'train')\n",
        "validation_dir = os.path.join(base_dir, 'val')\n",
        "train_normal_dir = os.path.join(train_dir, 'normal')\n",
        "train_abnormal_dir = os.path.join(train_dir, 'abnormal')\n",
        "validation_normal_dir = os.path.join(validation_dir, 'normal')\n",
        "validation_abnormal_dir = os.path.join(validation_dir, 'abnormal')"
      ]
    },
    {
      "cell_type": "markdown",
      "metadata": {},
      "source": [
        "##### Augment and generate images"
      ]
    },
    {
      "cell_type": "code",
      "execution_count": null,
      "metadata": {},
      "outputs": [],
      "source": [
        "train_datagen = ImageDataGenerator(rescale = 1./255.,rotation_range = 40, width_shift_range = 0.2, height_shift_range = 0.2, shear_range = 0.2, zoom_range = 0.2, horizontal_flip = True)\n",
        "valid_datagen = ImageDataGenerator( rescale = 1.0/255. )"
      ]
    },
    {
      "cell_type": "code",
      "execution_count": null,
      "metadata": {
        "colab": {
          "base_uri": "https://localhost:8080/"
        },
        "id": "lbdlvylRL13X",
        "outputId": "86bdf55c-d0cc-4f52-cce0-aa79e08e8d9a"
      },
      "outputs": [],
      "source": [
        "train_generator = train_datagen.flow_from_directory(train_dir, batch_size = 20, class_mode = 'binary', target_size = (512, 512))\n",
        "validation_generator = valid_datagen.flow_from_directory(validation_dir,  batch_size = 20, class_mode = 'binary', target_size = (512, 512))"
      ]
    },
    {
      "cell_type": "markdown",
      "metadata": {},
      "source": [
        "##### Defining base model and unfreezing layers"
      ]
    },
    {
      "cell_type": "code",
      "execution_count": null,
      "metadata": {
        "colab": {
          "base_uri": "https://localhost:8080/"
        },
        "id": "9sKA6mOBL15_",
        "outputId": "6044b31f-a580-4a07-d75a-bac05a84dd5f"
      },
      "outputs": [],
      "source": [
        "base_model = ResNet50(input_shape = (512, 512, 3),\n",
        "                   include_top = False,\n",
        "                   weights = 'imagenet')\n",
        "\n",
        "trainable_blocks = ['block5_conv1', 'block5_conv2', 'block5_conv3']\n",
        "\n",
        "for layer in base_model.layers:\n",
        "    if layer.name not in trainable_blocks:\n",
        "        layer.trainable = False\n",
        "    else:\n",
        "        layer.trainable = True\n",
        "\n",
        "base_model.summary()"
      ]
    },
    {
      "cell_type": "markdown",
      "metadata": {},
      "source": [
        "##### Adding projection layers to the backbone network"
      ]
    },
    {
      "cell_type": "code",
      "execution_count": null,
      "metadata": {
        "colab": {
          "base_uri": "https://localhost:8080/"
        },
        "id": "6URd5rdaL18k",
        "outputId": "5bb53233-eeae-4802-f733-e8753dd9b49f"
      },
      "outputs": [],
      "source": [
        "x = layers.Flatten()(base_model.output)\n",
        "x = layers.Dense(128, activation='relu')(x)\n",
        "x = layers.Dropout(0.5)(x)\n",
        "x = layers.Dense(1, activation='sigmoid')(x)\n",
        "model = tf.keras.models.Model(base_model.input, x)\n",
        "model.summary()"
      ]
    },
    {
      "cell_type": "markdown",
      "metadata": {},
      "source": [
        "##### Compiling the model and defining the optimizer, loss function, metrics"
      ]
    },
    {
      "cell_type": "code",
      "execution_count": null,
      "metadata": {
        "id": "7mU8GStmL1-o"
      },
      "outputs": [],
      "source": [
        "with tf.device('/device:GPU:0'):\n",
        "  model = tf.keras.models.Model(base_model.input, x)\n",
        "  model.compile(\n",
        "        optimizer = tf.keras.optimizers.RMSprop(learning_rate=0.0001),\n",
        "        loss = 'binary_crossentropy',\n",
        "        metrics = \n",
        "            ['acc',\n",
        "              tf.keras.metrics.Precision(name='precision'),\n",
        "              tf.keras.metrics.Recall(name='recall')\n",
        "            ]\n",
        "      )\n",
        "  reshist = model.fit(train_generator, validation_data = validation_generator, steps_per_epoch = 100, epochs = 1)"
      ]
    },
    {
      "cell_type": "markdown",
      "metadata": {},
      "source": [
        "##### Plotting train and validation results"
      ]
    },
    {
      "cell_type": "code",
      "execution_count": null,
      "metadata": {
        "colab": {
          "base_uri": "https://localhost:8080/",
          "height": 786
        },
        "id": "uDHSxM9sOYvJ",
        "outputId": "35bc2073-d285-4cf9-d410-1dbe867ec3c2"
      },
      "outputs": [],
      "source": [
        "acc = reshist.history['acc']\n",
        "val_acc = reshist.history['val_acc']\n",
        "loss = reshist.history['loss']\n",
        "val_loss = reshist.history['val_loss']\n",
        "epochs_range = range(10)\n",
        "\n",
        "plt.figure(figsize=(15, 15))\n",
        "plt.subplot(2, 2, 1)\n",
        "plt.plot(epochs_range, acc, label='Training Accuracy')\n",
        "plt.plot(epochs_range, val_acc, label='Validation Accuracy')\n",
        "plt.legend(loc='lower right')\n",
        "plt.title('Training and Validation Accuracy')\n",
        "\n",
        "plt.subplot(2, 2, 2)\n",
        "plt.plot(epochs_range, loss, label='Training Loss')\n",
        "plt.plot(epochs_range, val_loss, label='Validation Loss')\n",
        "plt.legend(loc='upper right')\n",
        "plt.title('Training and Validation Loss')\n",
        "plt.show()"
      ]
    },
    {
      "cell_type": "markdown",
      "metadata": {},
      "source": [
        "##### Evaluating the model on the test dataset"
      ]
    },
    {
      "cell_type": "code",
      "execution_count": null,
      "metadata": {
        "id": "jRBaquF_PetU"
      },
      "outputs": [],
      "source": [
        "test_dir = os.path.join(base_dir, 'test')\n",
        "test_normal_dir = os.path.join(test_dir, 'normal')\n",
        "test_abnormal_dir = os.path.join(test_dir, 'abnormal')\n",
        "\n",
        "test_datagen = ImageDataGenerator( rescale = 1.0/255. )\n",
        "test_generator = test_datagen.flow_from_directory(test_dir,  batch_size = 20, class_mode = 'binary', target_size = (512, 512))\n",
        "\n",
        "model.evaluate(test_generator)"
      ]
    }
  ],
  "metadata": {
    "accelerator": "GPU",
    "colab": {
      "collapsed_sections": [],
      "name": "Implementation_Binary_fineTune.ipynb",
      "provenance": []
    },
    "kernelspec": {
      "display_name": "Python 3",
      "name": "python3"
    },
    "language_info": {
      "name": "python"
    }
  },
  "nbformat": 4,
  "nbformat_minor": 0
}
