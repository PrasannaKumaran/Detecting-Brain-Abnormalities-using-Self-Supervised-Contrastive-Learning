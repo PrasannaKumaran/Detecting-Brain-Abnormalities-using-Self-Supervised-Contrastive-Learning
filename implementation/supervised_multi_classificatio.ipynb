{
  "cells": [
    {
      "cell_type": "code",
      "execution_count": null,
      "metadata": {
        "id": "8hGICtWUYSoW"
      },
      "outputs": [],
      "source": [
        "import zipfile\n",
        "with zipfile.ZipFile('/content/gdrive/MyDrive/FYP/multi_classification_data.zip', 'r') as zip_ref:\n",
        "    zip_ref.extractall('/content/gdrive/MyDrive/FYP/multi_classification_data')"
      ]
    },
    {
      "cell_type": "markdown",
      "metadata": {},
      "source": [
        "##### Import required Libraries"
      ]
    },
    {
      "cell_type": "code",
      "execution_count": null,
      "metadata": {
        "id": "5DgCNM2Vte5p"
      },
      "outputs": [],
      "source": [
        "import os \n",
        "import tensorflow as tf \n",
        "from google.colab import drive\n",
        "import matplotlib.pyplot as plt\n",
        "from tensorflow.keras import layers \n",
        "from tensorflow.keras.applications.vgg16 import VGG16 \n",
        "from tensorflow.keras.preprocessing.image import ImageDataGenerator \n",
        "drive.mount('/content/gdrive')"
      ]
    },
    {
      "cell_type": "markdown",
      "metadata": {},
      "source": [
        "##### Check if GPU is detected"
      ]
    },
    {
      "cell_type": "code",
      "execution_count": null,
      "metadata": {
        "colab": {
          "base_uri": "https://localhost:8080/"
        },
        "id": "h7mvr8KaO6DO",
        "outputId": "9c955ba4-a556-4c93-970b-3e38a6ea4bdd"
      },
      "outputs": [],
      "source": [
        "device_name = tf.test.gpu_device_name()\n",
        "print(device_name)\n",
        "if device_name != '/device:GPU:0':\n",
        "  raise SystemError('GPU device not found')\n",
        "print('Found GPU at: {}'.format(device_name))"
      ]
    },
    {
      "cell_type": "markdown",
      "metadata": {},
      "source": [
        "##### Split the dataset into train and validation"
      ]
    },
    {
      "cell_type": "code",
      "execution_count": null,
      "metadata": {
        "id": "IY4ytkCqL1wB"
      },
      "outputs": [],
      "source": [
        "base_dir = '/content/gdrive/MyDrive/FYP/multi_classification_data/multi_classification_data'\n",
        "\n",
        "train_dir = os.path.join(base_dir, 'train')\n",
        "validation_dir = os.path.join(base_dir, 'val')\n",
        "\n",
        "train_Intraventricular_dir = os.path.join(train_dir, 'Intraventricular')\n",
        "validation_Intraventricular_dir = os.path.join(validation_dir, 'Intraventricular')\n",
        "\n",
        "train_Normal_dir = os.path.join(train_dir, 'Normal')\n",
        "validation_Normal_dir = os.path.join(validation_dir, 'Normal')\n",
        "\n",
        "train_Subarachnoid_dir = os.path.join(train_dir, 'Subarachnoid')\n",
        "validation_Subarachnoid_dir = os.path.join(validation_dir, 'Subarachnoid')\n",
        "\n",
        "train_Chronic_dir = os.path.join(train_dir, 'Chronic')\n",
        "validation_Chronic_dir = os.path.join(validation_dir, 'Chronic')\n",
        "\n",
        "train_Intraparenchymal_dir = os.path.join(train_dir, 'Intraparenchymal')\n",
        "validation_Intraparenchymal_dir = os.path.join(validation_dir, 'Intraparenchymal')\n",
        "\n",
        "train_Epidural_dir = os.path.join(train_dir, 'Epidural')\n",
        "validation_Epidural_dir = os.path.join(validation_dir, 'Epidural')\n",
        "\n",
        "train_Subdural_dir = os.path.join(train_dir, 'c')\n",
        "validation_Subdural_dir = os.path.join(validation_dir, 'Subdural')\n"
      ]
    },
    {
      "cell_type": "markdown",
      "metadata": {},
      "source": [
        "##### Augment and generate images"
      ]
    },
    {
      "cell_type": "code",
      "execution_count": null,
      "metadata": {
        "id": "xw7oKs9LL10_"
      },
      "outputs": [],
      "source": [
        "train_datagen = ImageDataGenerator(rescale = 1./255.,rotation_range = 40, width_shift_range = 0.2, height_shift_range = 0.2, shear_range = 0.2, zoom_range = 0.2, horizontal_flip = True)\n",
        "valid_datagen = ImageDataGenerator( rescale = 1.0/255. )"
      ]
    },
    {
      "cell_type": "code",
      "execution_count": null,
      "metadata": {
        "colab": {
          "base_uri": "https://localhost:8080/"
        },
        "id": "lbdlvylRL13X",
        "outputId": "474cc351-f91d-4b58-c5bc-0d2a66364e10"
      },
      "outputs": [],
      "source": [
        "train_generator = train_datagen.flow_from_directory(train_dir, batch_size = 20, class_mode = 'categorical', target_size = (512, 512))\n",
        "validation_generator = valid_datagen.flow_from_directory(validation_dir,  batch_size = 20, class_mode = 'categorical', target_size = (512, 512))"
      ]
    },
    {
      "cell_type": "markdown",
      "metadata": {},
      "source": [
        "##### Defining base model and unfreezing layers"
      ]
    },
    {
      "cell_type": "code",
      "execution_count": null,
      "metadata": {
        "colab": {
          "base_uri": "https://localhost:8080/"
        },
        "id": "9sKA6mOBL15_",
        "outputId": "dc516416-feb7-4b24-c12e-2d558dee55b9"
      },
      "outputs": [],
      "source": [
        "base_model = VGG16(input_shape = (512, 512, 3),\n",
        "                   include_top = False,\n",
        "                   weights = 'imagenet')\n",
        "\n",
        "trainable_blocks = ['block5_conv1', 'block5_conv2', 'block5_conv3']\n",
        "\n",
        "for layer in base_model.layers:\n",
        "    if layer.name not in trainable_blocks:\n",
        "        layer.trainable = False\n",
        "    else:\n",
        "        layer.trainable = True"
      ]
    },
    {
      "cell_type": "markdown",
      "metadata": {},
      "source": [
        "##### Adding projection layers to the backbone network"
      ]
    },
    {
      "cell_type": "code",
      "execution_count": null,
      "metadata": {
        "id": "6URd5rdaL18k"
      },
      "outputs": [],
      "source": [
        "x = layers.Flatten()(base_model.output)\n",
        "x = layers.Dense(128, activation='relu')(x)\n",
        "x = layers.Dropout(0.5)(x)\n",
        "x = layers.Dense(7, activation = None)(x) # 7 classes (Normal, Subdural, Subarachnoid, Intraparenchymal, Chronic (Hematoma), Intraventricular, Epidural)"
      ]
    },
    {
      "cell_type": "markdown",
      "metadata": {},
      "source": [
        "##### Compiling the model and defining the optimizer, loss function, metrics"
      ]
    },
    {
      "cell_type": "code",
      "execution_count": null,
      "metadata": {
        "colab": {
          "base_uri": "https://localhost:8080/"
        },
        "id": "7mU8GStmL1-o",
        "outputId": "521e00a2-d6fc-4221-8caa-5616bb09dd47"
      },
      "outputs": [],
      "source": [
        "with tf.device('/device:GPU:0'):\n",
        "  model = tf.keras.models.Model(base_model.input, x)\n",
        "  model.compile(optimizer = tf.keras.optimizers.RMSprop(learning_rate=0.001),\n",
        "                loss = tf.keras.losses.CategoricalCrossentropy(),\n",
        "                metrics=[tf.keras.metrics.CategoricalAccuracy(), 'acc']\n",
        "                )\n",
        "  vgghist = model.fit(train_generator, validation_data = validation_generator, steps_per_epoch = 100, epochs = 10)"
      ]
    },
    {
      "cell_type": "markdown",
      "metadata": {},
      "source": [
        "##### Plotting train and validation results"
      ]
    },
    {
      "cell_type": "code",
      "execution_count": null,
      "metadata": {
        "colab": {
          "base_uri": "https://localhost:8080/",
          "height": 435
        },
        "id": "uDHSxM9sOYvJ",
        "outputId": "43053da0-7214-479d-f0a4-ecf4351b6594"
      },
      "outputs": [],
      "source": [
        "acc = vgghist.history['acc']\n",
        "val_acc = vgghist.history['val_categorical_accuracy']\n",
        "loss = vgghist.history['loss']\n",
        "val_loss = vgghist.history['val_loss']\n",
        "epochs_range = range(10)\n",
        "\n",
        "plt.figure(figsize=(15, 15))\n",
        "plt.subplot(2, 2, 1)\n",
        "plt.plot(epochs_range, acc, label='Training Accuracy')\n",
        "plt.plot(epochs_range, val_acc, label='Validation Accuracy')\n",
        "plt.legend(loc='lower right')\n",
        "plt.title('Training and Validation Accuracy')\n",
        "\n",
        "plt.subplot(2, 2, 2)\n",
        "plt.plot(epochs_range, loss, label='Training Loss')\n",
        "plt.plot(epochs_range, val_loss, label='Validation Loss')\n",
        "plt.legend(loc='upper right')\n",
        "plt.title('Training and Validation Loss')\n",
        "plt.show()"
      ]
    },
    {
      "cell_type": "markdown",
      "metadata": {},
      "source": [
        "##### Evaluating the model on the test dataset"
      ]
    },
    {
      "cell_type": "code",
      "execution_count": null,
      "metadata": {
        "colab": {
          "base_uri": "https://localhost:8080/"
        },
        "id": "jRBaquF_PetU",
        "outputId": "a3f5343e-9f4b-4ec4-e372-10d7e015c8cd"
      },
      "outputs": [],
      "source": [
        "test_dir = os.path.join(base_dir, 'test')\n",
        "test_normal_dir = os.path.join(test_dir, 'Intraventricular')\n",
        "test_abnormal_dir = os.path.join(test_dir, 'Normal')\n",
        "test_normal_dir = os.path.join(test_dir, 'Subarachnoid')\n",
        "test_abnormal_dir = os.path.join(test_dir, 'Chronic')\n",
        "test_normal_dir = os.path.join(test_dir, 'Intraparenchymal')\n",
        "test_abnormal_dir = os.path.join(test_dir, 'Epidural')\n",
        "test_normal_dir = os.path.join(test_dir, 'Subdural')\n",
        "\n",
        "test_datagen = ImageDataGenerator( rescale = 1.0/255. )\n",
        "test_generator = test_datagen.flow_from_directory(test_dir,  batch_size = 20, class_mode = 'categorical', target_size = (512, 512))\n",
        "model.evaluate(test_generator)"
      ]
    }
  ],
  "metadata": {
    "accelerator": "GPU",
    "colab": {
      "collapsed_sections": [],
      "name": "Implementation_Multi_Class_fineTune",
      "provenance": []
    },
    "kernelspec": {
      "display_name": "Python 3",
      "name": "python3"
    },
    "language_info": {
      "name": "python"
    }
  },
  "nbformat": 4,
  "nbformat_minor": 0
}
