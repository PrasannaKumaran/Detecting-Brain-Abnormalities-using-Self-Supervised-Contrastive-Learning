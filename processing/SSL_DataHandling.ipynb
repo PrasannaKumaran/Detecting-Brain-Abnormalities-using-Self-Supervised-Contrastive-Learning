{
  "cells": [
    {
      "cell_type": "code",
      "execution_count": null,
      "metadata": {
        "id": "AJBB6ChoCBcC"
      },
      "outputs": [],
      "source": [
        "import os\n",
        "import shutil\n",
        "from tqdm import tqdm\n",
        "from google.colab import drive\n",
        "tqdm.pandas()\n",
        "drive.mount('/content/gdrive')"
      ]
    },
    {
      "cell_type": "markdown",
      "metadata": {},
      "source": [
        "##### Store the slices as an image with class name in filename prefix"
      ]
    },
    {
      "cell_type": "code",
      "execution_count": null,
      "metadata": {
        "colab": {
          "base_uri": "https://localhost:8080/"
        },
        "id": "3fxl1VqtHBvY",
        "outputId": "e17b4f4d-40e3-4b57-c230-ec30fbd07f86"
      },
      "outputs": [
        {
          "name": "stderr",
          "output_type": "stream",
          "text": [
            "100%|██████████| 1000/1000 [00:44<00:00, 22.28it/s]\n",
            "100%|██████████| 1000/1000 [04:52<00:00,  3.42it/s]\n"
          ]
        }
      ],
      "source": [
        "sets = ['train']\n",
        "categories = ['abnormal', 'normal']\n",
        "for current_set in sets:\n",
        "  base = f'/content/gdrive/MyDrive/FYP/binary_classification_data/binary_classification_data/{current_set}'\n",
        "  destination_base = f'/content/gdrive/MyDrive/FYP/SSL_BinaryData/{current_set}'\n",
        "  for category in categories:\n",
        "    files = os.listdir(os.path.join(base, category))[:1000]\n",
        "    for slice in tqdm(files):\n",
        "      source = os.path.join(base, category, slice)\n",
        "      destination = os.path.join(destination_base, f'{category}_{slice}')\n",
        "      shutil.copy(source, destination)"
      ]
    },
    {
      "cell_type": "code",
      "execution_count": null,
      "metadata": {},
      "outputs": [],
      "source": [
        "sets = ['train', 'val', 'test']\n",
        "categories = ['Subdural', 'Subarachnoid', 'Normal', 'Intraventricular', 'Intraparenchymal', 'Epidural', 'Chronic']\n",
        "for current_set in sets:\n",
        "  base = f'/content/gdrive/MyDrive/FYP/multi_classification_data/multi_classification_data/{current_set}'\n",
        "  destination_base = f'/content/gdrive/MyDrive/FYP/SSL_MultiData/{current_set}'\n",
        "  for category in categories:\n",
        "    files = os.listdir(os.path.join(base, category))\n",
        "    for slice in tqdm(files):\n",
        "      source = os.path.join(base, category, slice)\n",
        "      destination = os.path.join(destination_base, f'{category}_{slice}')\n",
        "      shutil.copy(source, destination)"
      ]
    }
  ],
  "metadata": {
    "colab": {
      "collapsed_sections": [],
      "name": "SSL_DataHandling",
      "provenance": []
    },
    "kernelspec": {
      "display_name": "Python 3",
      "name": "python3"
    },
    "language_info": {
      "name": "python"
    }
  },
  "nbformat": 4,
  "nbformat_minor": 0
}
