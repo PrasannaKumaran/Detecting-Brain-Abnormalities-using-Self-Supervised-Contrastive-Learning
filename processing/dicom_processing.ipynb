{
  "cells": [
    {
      "cell_type": "code",
      "execution_count": null,
      "id": "bLaDN9MwAGAv",
      "metadata": {
        "colab": {
          "base_uri": "https://localhost:8080/"
        },
        "id": "bLaDN9MwAGAv",
        "outputId": "a80d02d7-d2c3-413f-fddd-479c09223079"
      },
      "outputs": [],
      "source": [
        "#!pip install pydicom\n",
        "#!pip install pylibjpeg \n",
        "#!pip install pylibjpeg pylibjpeg-libjpeg pydicom\n",
        "#!pip install GDCM \n",
        "#!pip install gdcm"
      ]
    },
    {
      "cell_type": "code",
      "execution_count": null,
      "id": "comic-consumption",
      "metadata": {
        "colab": {
          "base_uri": "https://localhost:8080/",
          "height": 346
        },
        "id": "comic-consumption",
        "outputId": "2dacfdf0-70e7-4997-b4a1-9efa3dc9f93a"
      },
      "outputs": [],
      "source": [
        "import os\n",
        "import glob\n",
        "import shutil\n",
        "import pydicom\n",
        "import numpy as np\n",
        "from tqdm import tqdm\n",
        "from scipy import ndimage\n",
        "from zipfile import ZipFile\n",
        "from pydicom import dcmread\n",
        "from google.colab import drive\n",
        "from skimage import morphology\n",
        "import matplotlib.pyplot as plt\n",
        "import matplotlib.image as mpimg\n",
        "from collections import Counter\n",
        "\n",
        "tqdm.pandas()\n",
        "drive.mount('/content/gdrive')"
      ]
    },
    {
      "cell_type": "code",
      "execution_count": null,
      "id": "AON51Z_BAAhO",
      "metadata": {
        "id": "AON51Z_BAAhO"
      },
      "outputs": [],
      "source": [
        "parent_folder = '/content/gdrive/MyDrive/qc500/'\n",
        "parent_extracted = '/content/gdrive/MyDrive/qc500_extracted/'"
      ]
    },
    {
      "cell_type": "code",
      "execution_count": null,
      "id": "coordinate-sheriff",
      "metadata": {
        "id": "coordinate-sheriff"
      },
      "outputs": [],
      "source": [
        "def transform_to_hu(medical_image, image):\n",
        "    intercept = medical_image.RescaleIntercept\n",
        "    slope = medical_image.RescaleSlope\n",
        "    hu_image = image * slope + intercept\n",
        "    return hu_image\n",
        "\n",
        "def window_image(image, window_center, window_width):\n",
        "    img_min = window_center - window_width // 2\n",
        "    img_max = window_center + window_width // 2\n",
        "    window_image = image.copy()\n",
        "    window_image[window_image < img_min] = img_min\n",
        "    window_image[window_image > img_max] = img_max\n",
        "    \n",
        "    return window_image\n",
        "\n",
        "def load_and_plot_image(ct_slice, save_path, file_path, save=False):\n",
        "    medical_image = pydicom.read_file(file_path)\n",
        "    image = medical_image.pixel_array\n",
        "    hu_image = transform_to_hu(medical_image, image)\n",
        "    brain_image = window_image(hu_image, 40, 80)\n",
        "    bone_image = window_image(hu_image, 400, 1000)\n",
        "    fname = ct_slice.split('.')[0]\n",
        "    if save:\n",
        "        mpimg.imsave(os.path.join(save_path, 'original', f'{fname}.png'), image)\n",
        "        mpimg.imsave(os.path.join(save_path, 'hu_image', f'{fname}.png'), hu_image)\n",
        "        mpimg.imsave(os.path.join(save_path, 'brain_image', f'{fname}.png'), brain_image)\n",
        "        mpimg.imsave(os.path.join(save_path, 'bone_image', f'{fname}.png'), bone_image)"
      ]
    },
    {
      "cell_type": "code",
      "execution_count": null,
      "id": "original-peter",
      "metadata": {
        "id": "original-peter"
      },
      "outputs": [],
      "source": [
        "def create_directories(current_scan):\n",
        "    scan_directory = os.path.join(parent_extracted, current_scan) \n",
        "    ct5_directory = os.path.join(scan_directory, 'CT 5mm')\n",
        "    ctp625_directory = os.path.join(scan_directory, 'CT 0.625mm')\n",
        "    try:\n",
        "      os.makedirs(os.path.join(ct5_directory, 'original'))\n",
        "      os.makedirs(os.path.join(ct5_directory, 'hu_image'))\n",
        "      os.makedirs(os.path.join(ct5_directory, 'brain_image'))\n",
        "      os.makedirs(os.path.join(ct5_directory, 'bone_image'))\n",
        "      \n",
        "      os.makedirs(os.path.join(ctp625_directory, 'original'))\n",
        "      os.makedirs(os.path.join(ctp625_directory, 'hu_image'))\n",
        "      os.makedirs(os.path.join(ctp625_directory, 'brain_image'))\n",
        "      os.makedirs(os.path.join(ctp625_directory, 'bone_image'))\n",
        "      print(f'{current_scan} directories created')\n",
        "    except FileExistsError:\n",
        "      print(f'{current_scan} already exists')"
      ]
    },
    {
      "cell_type": "code",
      "execution_count": null,
      "id": "ethical-louisiana",
      "metadata": {
        "colab": {
          "base_uri": "https://localhost:8080/"
        },
        "id": "ethical-louisiana",
        "outputId": "67ec9fea-c304-4569-fe7e-7f7adb5cbf33",
        "scrolled": true
      },
      "outputs": [],
      "source": [
        "def unzip_extract():\n",
        "    for scans in tqdm(os.listdir(parent_folder)):\n",
        "        if os.path.isdir(scans.split(\".\")[0]):\n",
        "            print(f'{scans.split(\".\")[0]} has been extracted already!.')\n",
        "            continue\n",
        "        else:\n",
        "            if 'zip' in scans:\n",
        "                print(f'Current scans {scans}')\n",
        "                try:\n",
        "                  with ZipFile(f'/content/gdrive/MyDrive/qc500/{scans}', 'r') as zip_ref:\n",
        "                      zip_ref.extractall(f'/content/gdrive/MyDrive/qc500/{scans.split(\".\")[0]}')\n",
        "                  print(\"extracted\")\n",
        "                except:\n",
        "                  print(f'{scans} error')\n",
        "unzip_extract()"
      ]
    },
    {
      "cell_type": "code",
      "execution_count": null,
      "id": "collect-remedy",
      "metadata": {
        "colab": {
          "base_uri": "https://localhost:8080/"
        },
        "id": "collect-remedy",
        "outputId": "6751f7e2-030a-4337-bfe4-110c7e262003"
      },
      "outputs": [],
      "source": [
        "for i in tqdm(os.listdir('.')):\n",
        "  if i.startswith(\"CQ\"):\n",
        "    shutil.move(f'./{i}', '/content/gdrive/MyDrive/qc500') "
      ]
    },
    {
      "cell_type": "code",
      "execution_count": null,
      "id": "1QlkCWJ71HG0",
      "metadata": {
        "id": "1QlkCWJ71HG0"
      },
      "outputs": [],
      "source": [
        "final = []\n",
        "for sub in subfolders:\n",
        "  for a in sub:\n",
        "    final.append(a)\n",
        "col_count = Counter(final)\n",
        "for i in col_count.keys():\n",
        "  print(i, col_count[i])\n",
        "print(f'No of subfolders {len(list(subfolders))}')"
      ]
    },
    {
      "cell_type": "code",
      "execution_count": null,
      "id": "4qDaZwinshZ1",
      "metadata": {
        "id": "4qDaZwinshZ1"
      },
      "outputs": [],
      "source": [
        "required_subfolders = set(final)\n",
        "def extract_samples():\n",
        "    samples = []\n",
        "    for scans in tqdm(os.listdir(parent_folder)):\n",
        "        current_scan = scans.split(\".\")[0]\n",
        "        combined_name = ''.join(current_scan.split('-'))\n",
        "        current_path = f'/content/gdrive/MyDrive/qc500/{current_scan}/{combined_name} {combined_name}/Unknown Study/'    \n",
        "        pathname = current_path + \"/**/*.dcm\"\n",
        "        files = glob.glob(pathname, recursive=True)\n",
        "        penult_list = ['/'.join(f.split('/')) for f in files]\n",
        "        for paths in penult_list:\n",
        "          for req in required_subfolders:\n",
        "            subs = [f for f in penult_list if req if f]\n",
        "            if req in paths:\n",
        "              samples.append(subs[len(subs)//2])\n",
        "              required_subfolders.remove(req)\n",
        "              break\n",
        "    return samples\n",
        "samples = extract_samples()\n",
        "for sam in samples:\n",
        "  print(sam)"
      ]
    },
    {
      "cell_type": "code",
      "execution_count": null,
      "id": "HgtRgVDnxzGf",
      "metadata": {
        "id": "HgtRgVDnxzGf"
      },
      "outputs": [],
      "source": [
        "def load_and_plot_image_test(file_path, save=False):\n",
        "    medical_image = dcmread(file_path)\n",
        "    medical_image.PhotometricInterpretation = 'YBR_FULL'\n",
        "    image = medical_image.pixel_array\n",
        "     \n",
        "    hu_image = transform_to_hu(medical_image, image)\n",
        "    brain_image = window_image(hu_image, 40, 80)\n",
        "    bone_image = window_image(hu_image, 400, 1000)\n",
        "    \n",
        "    plt.figure(figsize=(20, 10))\n",
        "    plt.style.use('grayscale')\n",
        "\n",
        "    plt.subplot(151)\n",
        "    plt.imshow(image)\n",
        "    plt.title('Original')\n",
        "    plt.axis('off')\n",
        "\n",
        "    plt.subplot(152)\n",
        "    plt.imshow(hu_image)\n",
        "    plt.title('Hu image')\n",
        "    plt.axis('off')\n",
        "\n",
        "    plt.subplot(153)\n",
        "    plt.imshow(brain_image)\n",
        "    plt.title('brain image')\n",
        "    plt.axis('off')\n",
        "\n",
        "    plt.subplot(154)\n",
        "    plt.imshow(bone_image)\n",
        "    plt.title('bone image')\n",
        "    plt.axis('off')"
      ]
    },
    {
      "cell_type": "code",
      "execution_count": null,
      "id": "a0Y6lqZ5y-SO",
      "metadata": {
        "colab": {
          "base_uri": "https://localhost:8080/",
          "height": 239
        },
        "id": "a0Y6lqZ5y-SO",
        "outputId": "0b412127-4c5c-4f53-f2a4-a3b538bef521"
      },
      "outputs": [],
      "source": [
        "path = '/content/gdrive/MyDrive/qc500/CQ500-CT-187/CQ500CT187 CQ500CT187/Unknown Study/CT Thin Plain/CT000140.dcm'\n",
        "load_and_plot_image_test(path)"
      ]
    },
    {
      "cell_type": "code",
      "execution_count": null,
      "id": "4a2u80RztJi5",
      "metadata": {
        "id": "4a2u80RztJi5"
      },
      "outputs": [],
      "source": [
        "def remove_noise(file_path, display=False):\n",
        "    medical_image = pydicom.read_file(file_path)\n",
        "    image = medical_image.pixel_array\n",
        "    hu_image = transform_to_hu(medical_image, image)\n",
        "    brain_image = window_image(hu_image, 40, 80)\n",
        "    segmentation = morphology.dilation(brain_image, np.ones((5, 5)))\n",
        "    labels, label_nb = ndimage.label(segmentation)\n",
        "    label_count = np.bincount(labels.ravel().astype(np.int))\n",
        "    label_count[0] = 0\n",
        "    mask = labels == label_count.argmax()\n",
        "    mask = morphology.dilation(mask, np.ones((5, 5)))\n",
        "    mask = ndimage.morphology.binary_fill_holes(mask)\n",
        "    mask = morphology.dilation(mask, np.ones((3, 3)))\n",
        "    masked_image = mask * brain_image\n",
        "    return masked_image"
      ]
    },
    {
      "cell_type": "code",
      "execution_count": null,
      "id": "LiCEPe6A7YF1",
      "metadata": {
        "id": "LiCEPe6A7YF1"
      },
      "outputs": [],
      "source": [
        "def extract_data():\n",
        "    for scans in tqdm(os.listdir(parent_folder)):\n",
        "        current_scan = scans.split(\".\")[0]\n",
        "        combined_name = ''.join(current_scan.split('-'))\n",
        "        current_path = f'/content/gdrive/MyDrive/qc500/{current_scan}/{combined_name} {combined_name}/Unknown Study/'    \n",
        "        pathname = current_path + \"/**/*.dcm\"\n",
        "        files = glob.glob(pathname, recursive=True)\n",
        "        penult_list = ['/'.join(f.split('/')) for f in files]\n",
        "        for paths in penult_list:\n",
        "          for req in required_subfolders:\n",
        "            if req in paths:\n",
        "              current_directory_path = f'/content/gdrive/MyDrive/qc500/extracted/{currrent_scan}/{req}/'\n",
        "              masked_current_directory_path = f'/content/gdrive/MyDrive/qc500/extracted/{currrent_scan}/masked_{req}/'\n",
        "              masked_image = remove_noise(paths)\n",
        "              if not os.path.exists(current_directory_path):\n",
        "                os.makedir(current_directory_path)\n",
        "                os.makedir(masked_current_directory_path)\n",
        "              shutil.copy(paths, current_directory_path)\n",
        "              mpimg.imsave(os.path.join(masked_current_directory_path, f'{paths.split(\"/\")[-1]}'), masked_image)\n"
      ]
    }
  ],
  "metadata": {
    "colab": {
      "collapsed_sections": [],
      "name": "FYP_Preprocessing.ipynb",
      "provenance": []
    },
    "kernelspec": {
      "display_name": "Python 3",
      "language": "python",
      "name": "python3"
    },
    "language_info": {
      "codemirror_mode": {
        "name": "ipython",
        "version": 3
      },
      "file_extension": ".py",
      "mimetype": "text/x-python",
      "name": "python",
      "nbconvert_exporter": "python",
      "pygments_lexer": "ipython3",
      "version": "3.8.5"
    }
  },
  "nbformat": 4,
  "nbformat_minor": 5
}
